{
 "cells": [
  {
   "cell_type": "code",
   "execution_count": 2,
   "id": "e0a27c99",
   "metadata": {},
   "outputs": [],
   "source": [
    "\n",
    "import numpy as np\n",
    "\n",
    "\n",
    "x=np.array([[1,2,3,4],[3,4,5,6],[7,8,9,10]])\n",
    "w=np.array([[1,2,3,4],[4,5,6,7],[6,7,8,9]])\n",
    "\n",
    "b=np.array([[1,1,1],[2,2,3],[3,3,3]])\n",
    "\n",
    "w2=np.array([[1,2,3],[4,5,6],[7,8,9]])\n",
    "b2=np.array([[1,1,1],[2,2,2],[3,3,3]])\n",
    "\n"
   ]
  },
  {
   "cell_type": "code",
   "execution_count": 3,
   "id": "e6df3596",
   "metadata": {},
   "outputs": [],
   "source": [
    "output1=np.dot(x,w.T)+b"
   ]
  },
  {
   "cell_type": "code",
   "execution_count": 4,
   "id": "1dce165c",
   "metadata": {},
   "outputs": [
    {
     "data": {
      "text/plain": [
       "(3, 3)"
      ]
     },
     "execution_count": 4,
     "metadata": {},
     "output_type": "execute_result"
    }
   ],
   "source": [
    "output1.shape"
   ]
  },
  {
   "cell_type": "code",
   "execution_count": 5,
   "id": "8a6262bc",
   "metadata": {},
   "outputs": [
    {
     "data": {
      "text/plain": [
       "2"
      ]
     },
     "execution_count": 5,
     "metadata": {},
     "output_type": "execute_result"
    }
   ],
   "source": [
    "output1.ndim"
   ]
  },
  {
   "cell_type": "code",
   "execution_count": 6,
   "id": "bcd1effc",
   "metadata": {},
   "outputs": [],
   "source": [
    "output2=np.dot(output1,w2.T)+b2"
   ]
  },
  {
   "cell_type": "code",
   "execution_count": null,
   "id": "aca59a70",
   "metadata": {},
   "outputs": [],
   "source": [
    "print(output2)"
   ]
  }
 ],
 "metadata": {
  "kernelspec": {
   "display_name": "deep-learning-from-scratch",
   "language": "python",
   "name": "python3"
  },
  "language_info": {
   "codemirror_mode": {
    "name": "ipython",
    "version": 3
   },
   "file_extension": ".py",
   "mimetype": "text/x-python",
   "name": "python",
   "nbconvert_exporter": "python",
   "pygments_lexer": "ipython3",
   "version": "3.13.4"
  }
 },
 "nbformat": 4,
 "nbformat_minor": 5
}
